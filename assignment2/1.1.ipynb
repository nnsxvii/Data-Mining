{
 "cells": [
  {
   "cell_type": "code",
   "execution_count": 5,
   "id": "971590e7-bb97-4f6f-a3b2-344881b2e661",
   "metadata": {},
   "outputs": [
    {
     "name": "stdout",
     "output_type": "stream",
     "text": [
      "Selected Features: ['petal length (cm)', 'petal width (cm)']\n"
     ]
    }
   ],
   "source": [
    "# Load the Iris dataset from scikit-learn.\n",
    "# Split the dataset into features and target variable.\n",
    "# Use SelectKBest with the chi2 score function to select the top 2 features.\n",
    "# Print the selected feature names.\n",
    "# -------- Tulkubaeva Nargiz --------\n",
    "\n",
    "# Import necessary libraries\n",
    "from sklearn.datasets import load_iris\n",
    "from sklearn.feature_selection import SelectKBest, chi2\n",
    "import pandas as pd\n",
    "\n",
    "# Load the Iris dataset\n",
    "iris = load_iris()\n",
    "X = iris.data  # Features\n",
    "y = iris.target  # Target variable\n",
    "\n",
    "# Convert the dataset into a pandas DataFrame for better readability\n",
    "df = pd.DataFrame(X, columns=iris.feature_names)\n",
    "\n",
    "# Use SelectKBest with chi2 to select the top 2 features\n",
    "selector = SelectKBest(score_func=chi2, k=2)\n",
    "X_new = selector.fit_transform(X, y)\n",
    "\n",
    "# Get the indices of the selected features\n",
    "mask = selector.get_support(indices=True)\n",
    "selected_features = [iris.feature_names[i] for i in mask]\n",
    "\n",
    "# Print the selected feature names\n",
    "print(\"Selected Features:\", selected_features)"
   ]
  },
  {
   "cell_type": "code",
   "execution_count": null,
   "id": "b2f55b52-f15b-4f67-a367-34fef648941a",
   "metadata": {},
   "outputs": [],
   "source": []
  }
 ],
 "metadata": {
  "kernelspec": {
   "display_name": "Python 3 (ipykernel)",
   "language": "python",
   "name": "python3"
  },
  "language_info": {
   "codemirror_mode": {
    "name": "ipython",
    "version": 3
   },
   "file_extension": ".py",
   "mimetype": "text/x-python",
   "name": "python",
   "nbconvert_exporter": "python",
   "pygments_lexer": "ipython3",
   "version": "3.12.4"
  }
 },
 "nbformat": 4,
 "nbformat_minor": 5
}
