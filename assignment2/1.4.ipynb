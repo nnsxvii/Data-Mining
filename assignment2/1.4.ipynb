{
 "cells": [
  {
   "cell_type": "code",
   "execution_count": 12,
   "id": "a48404fd-9191-429a-911c-9e4c598f488c",
   "metadata": {},
   "outputs": [
    {
     "name": "stdout",
     "output_type": "stream",
     "text": [
      "[   0.         -152.66477923  552.69777529  303.36515791  -81.36500664\n",
      "   -0.         -229.25577639    0.          447.91952518   29.64261704]\n"
     ]
    }
   ],
   "source": [
    "# Load the Diabetes dataset from scikit-learn.\n",
    "# Split the dataset into training and testing sets.\n",
    "# Apply Lasso regression for feature selection.\n",
    "# Train a model using selected features and evaluate its performance.\n",
    "# ----------- Tulkubaeva Nargiz ------------\n",
    "\n",
    "from sklearn.datasets import load_diabetes\n",
    "from sklearn.model_selection import train_test_split\n",
    "from sklearn.linear_model import Lasso\n",
    "from sklearn.metrics import mean_squared_error, r2_score\n",
    "\n",
    "data = load_diabetes()\n",
    "X = data.data  \n",
    "y = data.target\n",
    "\n",
    "X1, X2, y1, y2 = train_test_split(X, y, test_size=0.2, random_state=42)\n",
    "\n",
    "l = Lasso(alpha=0.1)\n",
    "l.fit(X1, y1)\n",
    "\n",
    "# Выводим коэффициенты модели (важность признаков)\n",
    "print(lasso.coef_)"
   ]
  },
  {
   "cell_type": "code",
   "execution_count": 9,
   "id": "dcdf3a0c-4a2a-488d-a8d7-a28ca9a7a562",
   "metadata": {},
   "outputs": [
    {
     "name": "stdout",
     "output_type": "stream",
     "text": [
      "Средняя квадратичная ошибка: 2798.19\n",
      "R^2: 0.47\n"
     ]
    }
   ],
   "source": [
    "y_pred = l.predict(X2) # делает предсказания на тестовом наборе данных X2.\n",
    "\n",
    "mse = mean_squared_error(y2, y_pred)\n",
    "r2 = r2_score(y2, y_pred)\n",
    "\n",
    "print(f\"Средняя квадратичная ошибка: {mse:.2f}\")\n",
    "print(f\"R^2: {r2:.2f}\")"
   ]
  },
  {
   "cell_type": "code",
   "execution_count": null,
   "id": "7febd455-8d97-4cb5-b09a-14444619b838",
   "metadata": {},
   "outputs": [],
   "source": []
  }
 ],
 "metadata": {
  "kernelspec": {
   "display_name": "Python 3 (ipykernel)",
   "language": "python",
   "name": "python3"
  },
  "language_info": {
   "codemirror_mode": {
    "name": "ipython",
    "version": 3
   },
   "file_extension": ".py",
   "mimetype": "text/x-python",
   "name": "python",
   "nbconvert_exporter": "python",
   "pygments_lexer": "ipython3",
   "version": "3.12.4"
  }
 },
 "nbformat": 4,
 "nbformat_minor": 5
}
