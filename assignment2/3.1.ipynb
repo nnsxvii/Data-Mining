{
 "cells": [
  {
   "cell_type": "code",
   "execution_count": 8,
   "id": "2ef30d10-3a39-457a-a232-aa11881f0dac",
   "metadata": {},
   "outputs": [
    {
     "name": "stdout",
     "output_type": "stream",
     "text": [
      "Mean Squared Error (MSE): 0.56\n",
      "R-squared (R²): 0.58\n"
     ]
    }
   ],
   "source": [
    "# Load the Boston Housing dataset from scikit-learn.\n",
    "# Split the dataset into training and testing sets.\n",
    "# Train a linear regression model on the training set.\n",
    "# Evaluate the model's performance using mean squared error (MSE) and R-squared score.\n",
    "# ----------- Tulkubaeva Nargiz --------------\n",
    "\n",
    "# Импортируем необходимые библиотеки\n",
    "from sklearn.datasets import fetch_california_housing  # Используем California Housing вместо Boston Housing\n",
    "from sklearn.model_selection import train_test_split\n",
    "from sklearn.linear_model import LinearRegression\n",
    "from sklearn.metrics import mean_squared_error, r2_score\n",
    "\n",
    "# Загружаем набор данных California Housing\n",
    "data = fetch_california_housing()\n",
    "X = data.data  # Признаки\n",
    "y = data.target  # Целевая переменная (цены жилья)\n",
    "\n",
    "# Разделение на обучающую и тестовую выборки\n",
    "X_train, X_test, y_train, y_test = train_test_split(X, y, test_size=0.2, random_state=42)\n",
    "\n",
    "# Создаем и обучаем модель линейной регрессии\n",
    "lr = LinearRegression()\n",
    "lr.fit(X_train, y_train)\n",
    "\n",
    "# Делаем предсказания на тестовой выборке\n",
    "y_pred = lr.predict(X_test)\n",
    "\n",
    "# Вычисляем среднеквадратичную ошибку (MSE)\n",
    "mse = mean_squared_error(y_test, y_pred)\n",
    "print(f\"Mean Squared Error (MSE): {mse:.2f}\")\n",
    "\n",
    "# Вычисляем коэффициент детерминации (R²)\n",
    "r2 = r2_score(y_test, y_pred)\n",
    "print(f\"R-squared (R²): {r2:.2f}\")"
   ]
  },
  {
   "cell_type": "code",
   "execution_count": null,
   "id": "87971c00-6fe8-4b9c-a1e9-8f65ac066a8e",
   "metadata": {},
   "outputs": [],
   "source": []
  }
 ],
 "metadata": {
  "kernelspec": {
   "display_name": "Python 3 (ipykernel)",
   "language": "python",
   "name": "python3"
  },
  "language_info": {
   "codemirror_mode": {
    "name": "ipython",
    "version": 3
   },
   "file_extension": ".py",
   "mimetype": "text/x-python",
   "name": "python",
   "nbconvert_exporter": "python",
   "pygments_lexer": "ipython3",
   "version": "3.12.4"
  }
 },
 "nbformat": 4,
 "nbformat_minor": 5
}
