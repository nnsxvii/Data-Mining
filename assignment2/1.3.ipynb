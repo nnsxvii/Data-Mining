{
 "cells": [
  {
   "cell_type": "code",
   "execution_count": 6,
   "id": "800c5c68-f04d-4e4b-b115-cddbd32ed1b6",
   "metadata": {},
   "outputs": [
    {
     "name": "stdout",
     "output_type": "stream",
     "text": [
      "Accuracy: 96.49%\n",
      "Selected feature indices: [ 5  7 13 17 18 19 21 23 26 28]\n"
     ]
    }
   ],
   "source": [
    "# Load the Breast Cancer dataset from scikit-learn.\n",
    "# Split the dataset into training and testing sets.\n",
    "# Use RFE with a Support Vector Machine (SVM) classifier to select features.\n",
    "# Train an SVM model with the selected features and evaluate its performance.\n",
    "# ---------- Tulkubaeva Nargiz -----------\n",
    "\n",
    "# Импортируем необходимые библиотеки\n",
    "import numpy as np\n",
    "from sklearn.datasets import load_breast_cancer\n",
    "from sklearn.model_selection import train_test_split\n",
    "from sklearn.preprocessing import StandardScaler\n",
    "from sklearn.svm import SVC\n",
    "from sklearn.feature_selection import RFE\n",
    "from sklearn.metrics import accuracy_score\n",
    "\n",
    "# Шаг 1: Загрузим набор данных\n",
    "data = load_breast_cancer()\n",
    "X = data.data\n",
    "y = data.target\n",
    "\n",
    "# Шаг 2: Разделим данные на обучающий и тестовый наборы\n",
    "X_train, X_test, y_train, y_test = train_test_split(X, y, test_size=0.3, random_state=42)\n",
    "\n",
    "# Шаг 3: Масштабируем данные\n",
    "scaler = StandardScaler()\n",
    "X_train_scaled = scaler.fit_transform(X_train)\n",
    "X_test_scaled = scaler.transform(X_test)\n",
    "\n",
    "# Шаг 4: Создаем модель SVM\n",
    "svm = SVC(kernel='linear', random_state=42)\n",
    "\n",
    "# Шаг 5: Используем RFE для выбора признаков\n",
    "selector = RFE(svm, n_features_to_select=10, step=1)\n",
    "selector = selector.fit(X_train_scaled, y_train)\n",
    "\n",
    "# Шаг 6: Тренируем SVM модель с выбранными признаками\n",
    "X_train_rfe = selector.transform(X_train_scaled)\n",
    "X_test_rfe = selector.transform(X_test_scaled)\n",
    "\n",
    "svm.fit(X_train_rfe, y_train)\n",
    "\n",
    "# Шаг 7: Оцениваем производительность модели на тестовых данных\n",
    "y_pred = svm.predict(X_test_rfe)\n",
    "accuracy = accuracy_score(y_test, y_pred)\n",
    "\n",
    "print(f'Accuracy: {accuracy * 100:.2f}%')\n",
    "\n",
    "# Шаг 8: Выводим выбранные признаки\n",
    "selected_features = selector.get_support(indices=True)\n",
    "print(\"Selected feature indices:\", selected_features)"
   ]
  },
  {
   "cell_type": "code",
   "execution_count": null,
   "id": "4843af46-e3e6-4455-bea6-78c753831715",
   "metadata": {},
   "outputs": [],
   "source": []
  }
 ],
 "metadata": {
  "kernelspec": {
   "display_name": "Python 3 (ipykernel)",
   "language": "python",
   "name": "python3"
  },
  "language_info": {
   "codemirror_mode": {
    "name": "ipython",
    "version": 3
   },
   "file_extension": ".py",
   "mimetype": "text/x-python",
   "name": "python",
   "nbconvert_exporter": "python",
   "pygments_lexer": "ipython3",
   "version": "3.12.4"
  }
 },
 "nbformat": 4,
 "nbformat_minor": 5
}
