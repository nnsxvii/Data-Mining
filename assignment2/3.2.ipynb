{
 "cells": [
  {
   "cell_type": "code",
   "execution_count": 4,
   "id": "52752906-9a80-44d3-b856-ebc26c442fec",
   "metadata": {},
   "outputs": [
    {
     "name": "stdout",
     "output_type": "stream",
     "text": [
      "Mean Squared Error (MSE): 3077.42\n",
      "R-squared (R²): 0.42\n"
     ]
    }
   ],
   "source": [
    "# Load the Diabetes dataset from scikit-learn.\n",
    "# Split the dataset into training and testing sets.\n",
    "# Train a Ridge regression model on the training set.\n",
    "# Evaluate the model's performance using mean squared error (MSE) and R-squared score.\n",
    "# ---------- Tulkubaeva Nargiz ---------\n",
    "\n",
    "# Импортируем необходимые библиотеки\n",
    "from sklearn.datasets import load_diabetes\n",
    "from sklearn.model_selection import train_test_split\n",
    "from sklearn.linear_model import Ridge\n",
    "from sklearn.metrics import mean_squared_error, r2_score\n",
    "\n",
    "# Загружаем набор данных Diabetes\n",
    "data = load_diabetes()\n",
    "X = data.data  # Признаки\n",
    "y = data.target  # Целевая переменная (уровень диабета)\n",
    "\n",
    "# Разделение на обучающую и тестовую выборки\n",
    "X_train, X_test, y_train, y_test = train_test_split(X, y, test_size=0.2, random_state=42)\n",
    "\n",
    "# Создаем и обучаем модель Ridge регрессии\n",
    "ridge = Ridge(alpha=1.0)  # alpha - параметр регуляризации\n",
    "ridge.fit(X_train, y_train)\n",
    "\n",
    "# Делаем предсказания на тестовой выборке\n",
    "y_pred = ridge.predict(X_test)\n",
    "\n",
    "# Вычисляем среднеквадратичную ошибку (MSE)\n",
    "mse = mean_squared_error(y_test, y_pred)\n",
    "print(f\"Mean Squared Error (MSE): {mse:.2f}\")\n",
    "\n",
    "# Вычисляем коэффициент детерминации (R²)\n",
    "r2 = r2_score(y_test, y_pred)\n",
    "print(f\"R-squared (R²): {r2:.2f}\")"
   ]
  },
  {
   "cell_type": "code",
   "execution_count": null,
   "id": "1a50cf1a-545f-487b-a226-ac55e1f5c543",
   "metadata": {},
   "outputs": [],
   "source": []
  }
 ],
 "metadata": {
  "kernelspec": {
   "display_name": "Python 3 (ipykernel)",
   "language": "python",
   "name": "python3"
  },
  "language_info": {
   "codemirror_mode": {
    "name": "ipython",
    "version": 3
   },
   "file_extension": ".py",
   "mimetype": "text/x-python",
   "name": "python",
   "nbconvert_exporter": "python",
   "pygments_lexer": "ipython3",
   "version": "3.12.4"
  }
 },
 "nbformat": 4,
 "nbformat_minor": 5
}
